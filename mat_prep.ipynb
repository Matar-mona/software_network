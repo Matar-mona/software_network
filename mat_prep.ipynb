{
 "cells": [
  {
   "cell_type": "markdown",
   "metadata": {},
   "source": [
    "# Afterrunning the matlab code on we make the files ready "
   ]
  },
  {
   "cell_type": "code",
   "execution_count": 1,
   "metadata": {},
   "outputs": [],
   "source": [
    "from pathlib import Path\n",
    "import os.path\n",
    "import os\n",
    "import numpy as np\n",
    "import re\n",
    "import pandas as pd\n",
    "import shutil \n",
    "import matplotlib.pyplot as plt\n",
    "\n"
   ]
  },
  {
   "cell_type": "markdown",
   "metadata": {},
   "source": [
    "# for network I built using doxgen"
   ]
  },
  {
   "cell_type": "code",
   "execution_count": 2,
   "metadata": {},
   "outputs": [],
   "source": [
    "# csv_path = 'D:/mm_thesis/mat_metrics/'\n",
    "csv_path = 'D:/mm_thesis/Software_graphs/D_graph/D_matlab/'\n",
    "look_path = 'D:/mm_thesis/Software_graphs/lookup.csv'\n",
    "save_path = 'D:/mm_thesis/Software_graphs/D_graph/all_metrics/'\n",
    "csv_path_l = os.listdir(csv_path)\n",
    "csv_files = [(os.path.join(csv_path,infile)+'/') for infile in csv_path_l]"
   ]
  },
  {
   "cell_type": "code",
   "execution_count": 3,
   "metadata": {},
   "outputs": [],
   "source": [
    "lookup_df = pd.read_csv(look_path)"
   ]
  },
  {
   "cell_type": "code",
   "execution_count": 4,
   "metadata": {},
   "outputs": [
    {
     "data": {
      "text/html": [
       "<div>\n",
       "<style scoped>\n",
       "    .dataframe tbody tr th:only-of-type {\n",
       "        vertical-align: middle;\n",
       "    }\n",
       "\n",
       "    .dataframe tbody tr th {\n",
       "        vertical-align: top;\n",
       "    }\n",
       "\n",
       "    .dataframe thead th {\n",
       "        text-align: right;\n",
       "    }\n",
       "</style>\n",
       "<table border=\"1\" class=\"dataframe\">\n",
       "  <thead>\n",
       "    <tr style=\"text-align: right;\">\n",
       "      <th></th>\n",
       "      <th>tarfile</th>\n",
       "      <th>netfile</th>\n",
       "      <th>Timestamp</th>\n",
       "      <th>Time_created</th>\n",
       "      <th>yaml</th>\n",
       "      <th>stamp</th>\n",
       "      <th>d</th>\n",
       "    </tr>\n",
       "  </thead>\n",
       "  <tbody>\n",
       "    <tr>\n",
       "      <th>0</th>\n",
       "      <td>chukwa-release-0.1.2.tar.gz</td>\n",
       "      <td>chukwa_012</td>\n",
       "      <td>1.383354e+09</td>\n",
       "      <td>2013-11-02-02:02</td>\n",
       "      <td>chukwa012</td>\n",
       "      <td>1243036800</td>\n",
       "      <td>23-May-09</td>\n",
       "    </tr>\n",
       "    <tr>\n",
       "      <th>1</th>\n",
       "      <td>chukwa-chukwa-0.8.0.tar.gz</td>\n",
       "      <td>chukwa_080</td>\n",
       "      <td>1.466490e+09</td>\n",
       "      <td>2016-06-21-08:24</td>\n",
       "      <td>chukwa080</td>\n",
       "      <td>1466467200</td>\n",
       "      <td>21-Jun-16</td>\n",
       "    </tr>\n",
       "    <tr>\n",
       "      <th>2</th>\n",
       "      <td>chukwa-chukwa-0.7.0.tar.gz</td>\n",
       "      <td>chukwa_070</td>\n",
       "      <td>1.450721e+09</td>\n",
       "      <td>2015-12-21-19:03</td>\n",
       "      <td>chukwa070</td>\n",
       "      <td>1450656000</td>\n",
       "      <td>21-Dec-15</td>\n",
       "    </tr>\n",
       "    <tr>\n",
       "      <th>3</th>\n",
       "      <td>chukwa-chukwa-0.5.0.tar.gz</td>\n",
       "      <td>chukwa_050</td>\n",
       "      <td>1.383354e+09</td>\n",
       "      <td>2013-11-02-02:02</td>\n",
       "      <td>chukwa050</td>\n",
       "      <td>1326153600</td>\n",
       "      <td>10-Jan-12</td>\n",
       "    </tr>\n",
       "    <tr>\n",
       "      <th>4</th>\n",
       "      <td>chukwa-chukwa-0.4.0.tar.gz</td>\n",
       "      <td>chukwa_040</td>\n",
       "      <td>1.383354e+09</td>\n",
       "      <td>2013-11-02-02:02</td>\n",
       "      <td>chukwa040</td>\n",
       "      <td>1271030400</td>\n",
       "      <td>12-Apr-10</td>\n",
       "    </tr>\n",
       "  </tbody>\n",
       "</table>\n",
       "</div>"
      ],
      "text/plain": [
       "                       tarfile     netfile     Timestamp      Time_created  \\\n",
       "0  chukwa-release-0.1.2.tar.gz  chukwa_012  1.383354e+09  2013-11-02-02:02   \n",
       "1   chukwa-chukwa-0.8.0.tar.gz  chukwa_080  1.466490e+09  2016-06-21-08:24   \n",
       "2   chukwa-chukwa-0.7.0.tar.gz  chukwa_070  1.450721e+09  2015-12-21-19:03   \n",
       "3   chukwa-chukwa-0.5.0.tar.gz  chukwa_050  1.383354e+09  2013-11-02-02:02   \n",
       "4   chukwa-chukwa-0.4.0.tar.gz  chukwa_040  1.383354e+09  2013-11-02-02:02   \n",
       "\n",
       "        yaml       stamp          d  \n",
       "0  chukwa012  1243036800  23-May-09  \n",
       "1  chukwa080  1466467200  21-Jun-16  \n",
       "2  chukwa070  1450656000  21-Dec-15  \n",
       "3  chukwa050  1326153600  10-Jan-12  \n",
       "4  chukwa040  1271030400  12-Apr-10  "
      ]
     },
     "execution_count": 4,
     "metadata": {},
     "output_type": "execute_result"
    }
   ],
   "source": [
    "lookup_df.head()"
   ]
  },
  {
   "cell_type": "code",
   "execution_count": 5,
   "metadata": {},
   "outputs": [
    {
     "name": "stdout",
     "output_type": "stream",
     "text": [
      "['Call_mat', 'Coll_mat', 'Inh_mat']\n"
     ]
    }
   ],
   "source": [
    "print(csv_path_l)"
   ]
  },
  {
   "cell_type": "code",
   "execution_count": 6,
   "metadata": {},
   "outputs": [],
   "source": [
    "met_path  = 'D:/mm_thesis/Software_graphs/D_graph/'"
   ]
  },
  {
   "cell_type": "markdown",
   "metadata": {},
   "source": [
    "1- Metrics directory for each type of graph "
   ]
  },
  {
   "cell_type": "code",
   "execution_count": 22,
   "metadata": {},
   "outputs": [
    {
     "name": "stdout",
     "output_type": "stream",
     "text": [
      "type D:/mm_thesis/Software_graphs/D_graph/D_matlab/Call_mat/\n",
      "[]\n",
      "metric_path []\n",
      "type D:/mm_thesis/Software_graphs/D_graph/D_matlab/Coll_mat/\n",
      "['Jena_coll_mat.csv']\n",
      "metric_path ['D:/mm_thesis/Software_graphs/D_graph/D_matlab/Coll_mat/Jena_coll_mat.csv']\n",
      "met  : D:/mm_thesis/Software_graphs/D_graph/D_matlab/Coll_mat/Jena_coll_mat.csv\n",
      "s_name Jena\n",
      "type D:/mm_thesis/Software_graphs/D_graph/D_matlab/Inh_mat/\n",
      "[]\n",
      "metric_path []\n"
     ]
    }
   ],
   "source": [
    "for network_type in csv_files:\n",
    "    print('type',network_type)\n",
    "    sys_list = os.listdir(network_type)\n",
    "    print(sys_list)\n",
    "    st_m = network_type[:-1]\n",
    "    m_f = st_m.rfind('/')\n",
    "    m_e = st_m.rfind('_')\n",
    "    m_name = st_m[m_f+1: m_e]\n",
    "   \n",
    "    metric_path = [(os.path.join(network_type,i)) for i in sys_list]   #[2:3]\n",
    "    print('metric_path', metric_path)\n",
    "    \n",
    "    for met in metric_path:\n",
    "        print('met  :',met)\n",
    "        st_s = met.rfind('/')\n",
    "        s_e = met.rfind('_')\n",
    "        s_n_1 = met[st_s+1:s_e]\n",
    "        s_e2 = s_n_1.find('_')\n",
    "        s_name = s_n_1[:s_e2]\n",
    "        print('s_name', s_name)\n",
    "#         f_save = s_name+'_'+m_name+'_mat.csv'\n",
    "#         to_save = os.path.join(save_path,f_save)"
   ]
  },
  {
   "cell_type": "code",
   "execution_count": 24,
   "metadata": {},
   "outputs": [
    {
     "name": "stdout",
     "output_type": "stream",
     "text": [
      "type D:/mm_thesis/Software_graphs/D_graph/D_matlab/Call_mat/\n",
      "[]\n",
      "metric_path []\n",
      "type D:/mm_thesis/Software_graphs/D_graph/D_matlab/Coll_mat/\n",
      "['Jena_coll_mat.csv']\n",
      "metric_path ['D:/mm_thesis/Software_graphs/D_graph/D_matlab/Coll_mat/Jena_coll_mat.csv']\n",
      "met  : D:/mm_thesis/Software_graphs/D_graph/D_matlab/Coll_mat/Jena_coll_mat.csv\n",
      "s_name Jena\n",
      "32\n",
      " to svae with header and stuff ***** D:/mm_thesis/Software_graphs/D_graph/all_metrics/Jena_Coll_mat.csv\n",
      "row 0\n",
      "1339545600\n",
      "jena-jena-2.7.1\n",
      "row 1\n",
      "1340841600\n",
      "jena-jena-2.7.2\n",
      "row 2\n",
      "1344384000\n",
      "jena-jena-2.7.3\n",
      "row 3\n",
      "1350691200\n",
      "jena-jena-2.7.4\n",
      "row 4\n",
      "1361318400\n",
      "jena-jena-2.10.0\n",
      "row 5\n",
      "1368230400\n",
      "jena-jena-2.10.1\n",
      "row 6\n",
      "1378944000\n",
      "jena-jena-2.11.0\n",
      "row 7\n",
      "1390003200\n",
      "jena-jena-2.11.1\n",
      "row 8\n",
      "1401667200\n",
      "jena-jena-2.11.2\n",
      "row 9\n",
      "1406332800\n",
      "jena-jena-2.12.0\n",
      "row 10\n",
      "1431043200\n",
      "jena-jena-2.13.0\n",
      "row 11\n",
      "1437782400\n",
      "jena-jena-3.0.0\n",
      "row 12\n",
      "1449532800\n",
      "jena-jena-3.0.1\n",
      "row 13\n",
      "1462838400\n",
      "jena-jena-3.1.0\n",
      "row 14\n",
      "1478217600\n",
      "jena-jena-3.1.1\n",
      "row 15\n",
      "1485820800\n",
      "jena-jena-3.2.0\n",
      "row 16\n",
      "1493683200\n",
      "jena-jena-3.3.0\n",
      "row 17\n",
      "1500249600\n",
      "jena-jena-3.4.0\n",
      "row 18\n",
      "1509321600\n",
      "jena-jena-3.5.0\n",
      "row 19\n",
      "1513123200\n",
      "jena-jena-3.6.0\n",
      "row 20\n",
      "1522886400\n",
      "jena-jena-3.7.0\n",
      "row 21\n",
      "1529884800\n",
      "jena-jena-3.8.0\n",
      "row 22\n",
      "1538092800\n",
      "jena-jena-3.9.0\n",
      "row 23\n",
      "1546128000\n",
      "jena-jena-3.10.0\n",
      "row 24\n",
      "1556064000\n",
      "jena-jena-3.11.0\n",
      "row 25\n",
      "1558915200\n",
      "jena-jena-3.12.0\n",
      "row 26\n",
      "1569369600\n",
      "jena-jena-3.13.0\n",
      "row 27\n",
      "1579132800\n",
      "jena-jena-3.14.0\n",
      "row 28\n",
      "1588636800\n",
      "jena-jena-3.15.0\n",
      "row 29\n",
      "1594252800\n",
      "jena-jena-3.16.0\n",
      "row 30\n",
      "1604534400\n",
      "jena-jena-3.17.0\n",
      "row 31\n",
      "1616803200\n",
      "jena-jena-4.0.0\n",
      "           Version      t_stmp  ver_no  squares  diameter  stars  2-stars  \\\n",
      "0  jena-jena-2.7.1  1339545600       3    60409        13   1112   669856   \n",
      "1  jena-jena-2.7.2  1340841600       4    60834        13   1113   674888   \n",
      "\n",
      "     3-stars      4-stars   P-gamma   P-sigma  \n",
      "0  165396905  37433388165  2.113527  0.019242  \n",
      "1  167380956  38048449509  2.112262  0.019203  \n",
      "to_save                 D:/mm_thesis/Software_graphs/D_graph/all_metrics/Jena_Coll_mat.csv\n",
      "type D:/mm_thesis/Software_graphs/D_graph/D_matlab/Inh_mat/\n",
      "[]\n",
      "metric_path []\n"
     ]
    }
   ],
   "source": [
    "column_names= ['t_stmp','ver_no', 'squares', 'diameter', 'stars', '2-stars','3-stars','4-stars','P-gamma','P-sigma']\n",
    "for network_type in csv_files:\n",
    "    print('type',network_type)\n",
    "    sys_list = os.listdir(network_type)\n",
    "    print(sys_list)\n",
    "    st_m = network_type[:-1]\n",
    "    m_f = st_m.rfind('/')\n",
    "    m_e = st_m.rfind('_')\n",
    "    m_name = st_m[m_f+1: m_e]\n",
    "   \n",
    "    metric_path = [(os.path.join(network_type,i)) for i in sys_list]   #[2:3]\n",
    "    print('metric_path', metric_path)\n",
    "    \n",
    "    for met in metric_path:\n",
    "        print('met  :',met)\n",
    "        st_s = met.rfind('/')\n",
    "        s_e = met.rfind('_')\n",
    "        s_n_1 = met[st_s+1:s_e]\n",
    "        s_e2 = s_n_1.find('_')\n",
    "        s_name = s_n_1[:s_e2]\n",
    "        print('s_name', s_name)\n",
    "        f_save = s_name+'_'+m_name+'_mat.csv'\n",
    "        to_save = os.path.join(save_path,f_save)\n",
    "        \n",
    "        s_df = lookup_df[lookup_df['tarfile'].str.contains(s_name.lower())]\n",
    "        print(len(s_df))\n",
    "        \n",
    "        print(' to svae with header and stuff *****', to_save)\n",
    "        met_df = pd.read_csv(met,header = None)\n",
    "        met_df.columns = column_names\n",
    "#         print(met_df.head(2))\n",
    "        met_df= met_df.assign(Version =\" \")\n",
    "        for i, row in met_df.iterrows():\n",
    "#             print('row', i)\n",
    "            print(row['t_stmp'])\n",
    "            V_name = s_df[s_df['stamp'] ==row['t_stmp']]['tarfile'].values[0]\n",
    "            V_name_en = V_name.find('.tar.gz')\n",
    "            Ver_name = V_name[:V_name_en]\n",
    "            met_df.at[i,'Version'] = Ver_name\n",
    "            print(Ver_name)\n",
    "        met_df = met_df[['Version','t_stmp','ver_no', 'squares', 'diameter', 'stars', '2-stars','3-stars','4-stars','P-gamma','P-sigma']]\n",
    "        new_columns = met_df.columns\n",
    "        print(met_df.head(2))\n",
    "        print('to_save                ', to_save)\n",
    "        met_df.to_csv(to_save,header= new_columns, encoding='utf-8',index = False)"
   ]
  },
  {
   "cell_type": "code",
   "execution_count": 23,
   "metadata": {},
   "outputs": [
    {
     "name": "stdout",
     "output_type": "stream",
     "text": [
      "['Cassandra', 'Chukwa', 'httpClient', 'Ivy', 'Jena']\n"
     ]
    }
   ],
   "source": [
    "csv_path = 'D:/mm_thesis/Software_graphs/D_graph/D_matlab/'\n",
    "look_path = 'D:/mm_thesis/Software_graphs/lookup.csv'\n",
    "save_path = 'D:/mm_thesis/Software_graphs/D_graph/all_metrics/'\n",
    "csv_path_l = os.listdir(csv_path)\n",
    "csv_files = [(os.path.join(csv_path,infile)+'/') for infile in csv_path_l]\n",
    "met_path  = 'D:/mm_thesis/Software_graphs/D_graph/D_sys/'\n",
    "met_path_dir = os.listdir(met_path)\n",
    "print(met_path_dir)\n",
    "met_files = [(os.path.join(met_path,i) +'/') for i in met_path_dir if os.path.isdir(os.path.join(met_path,i))]"
   ]
  }
 ],
 "metadata": {
  "kernelspec": {
   "display_name": "Python 3",
   "language": "python",
   "name": "python3"
  },
  "language_info": {
   "codemirror_mode": {
    "name": "ipython",
    "version": 3
   },
   "file_extension": ".py",
   "mimetype": "text/x-python",
   "name": "python",
   "nbconvert_exporter": "python",
   "pygments_lexer": "ipython3",
   "version": "3.8.5"
  }
 },
 "nbformat": 4,
 "nbformat_minor": 2
}
